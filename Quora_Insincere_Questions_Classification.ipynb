{
  "nbformat": 4,
  "nbformat_minor": 0,
  "metadata": {
    "colab": {
      "name": "Quora Insincere Questions Classification.ipynb",
      "version": "0.3.2",
      "provenance": [],
      "collapsed_sections": [],
      "include_colab_link": true
    },
    "kernelspec": {
      "name": "python3",
      "display_name": "Python 3"
    },
    "accelerator": "GPU"
  },
  "cells": [
    {
      "cell_type": "markdown",
      "metadata": {
        "id": "view-in-github",
        "colab_type": "text"
      },
      "source": [
        "<a href=\"https://colab.research.google.com/github/manashpratim/Quora-Insincere-Questions-Classification/blob/master/Quora_Insincere_Questions_Classification.ipynb\" target=\"_parent\"><img src=\"https://colab.research.google.com/assets/colab-badge.svg\" alt=\"Open In Colab\"/></a>"
      ]
    },
    {
      "cell_type": "code",
      "metadata": {
        "id": "8i4x_29HjsHM",
        "colab_type": "code",
        "outputId": "f25989b0-57f3-4a8d-f0d7-d9d6ab41d44d",
        "colab": {
          "base_uri": "https://localhost:8080/",
          "height": 239
        }
      },
      "source": [
        "#Downloading the Datasets\n",
        "!wget --no-check-certificate \\\n",
        "      \"https://storage.googleapis.com/kaggle-competitions-data/kaggle/10737/290346/all.zip?GoogleAccessId=web-data@kaggle-161607.iam.gserviceaccount.com&Expires=1562496110&Signature=MoI4MS2ahHrnKTYhBs6GyCrawyQLaC6muis0M%2FcaHl54q1L6RnwVwc1ElWHX3UcZQToj1YhnmIg4Nm4veYgmbE%2BGU6qwWqlejyUCrRpIZCdrvO9QoCCW52zqjxWFJpJV2QuM7pj7C7gCAjqX9CzlP0OVWesj9tGD5GSRC9wQDfWPezEXUuI08LzWOt02rbexmuNZt7axZ%2B96EKGvBhBHCzndeC75CPNYRVjVs6evEoDUyzM7%2BTtA1R8JgwQgeBJtoEdxQ15OYFaU%2FOGMLePEPzf5XkcU8tI84BFzKLlc%2FDTewheg%2F0irr0xoMx6mCLJ%2BGt%2BszJFKVKgdB6zrKuxOLw%3D%3D&response-content-disposition=attachment%3B+filename%3Dquora-insincere-questions-classification.zip\"\\\n",
        "      -O \"/tmp/quora.zip\""
      ],
      "execution_count": 6,
      "outputs": [
        {
          "output_type": "stream",
          "text": [
            "--2019-07-05 01:30:06--  https://storage.googleapis.com/kaggle-competitions-data/kaggle/10737/290346/all.zip?GoogleAccessId=web-data@kaggle-161607.iam.gserviceaccount.com&Expires=1562496110&Signature=MoI4MS2ahHrnKTYhBs6GyCrawyQLaC6muis0M%2FcaHl54q1L6RnwVwc1ElWHX3UcZQToj1YhnmIg4Nm4veYgmbE%2BGU6qwWqlejyUCrRpIZCdrvO9QoCCW52zqjxWFJpJV2QuM7pj7C7gCAjqX9CzlP0OVWesj9tGD5GSRC9wQDfWPezEXUuI08LzWOt02rbexmuNZt7axZ%2B96EKGvBhBHCzndeC75CPNYRVjVs6evEoDUyzM7%2BTtA1R8JgwQgeBJtoEdxQ15OYFaU%2FOGMLePEPzf5XkcU8tI84BFzKLlc%2FDTewheg%2F0irr0xoMx6mCLJ%2BGt%2BszJFKVKgdB6zrKuxOLw%3D%3D&response-content-disposition=attachment%3B+filename%3Dquora-insincere-questions-classification.zip\n",
            "Resolving storage.googleapis.com (storage.googleapis.com)... 172.217.214.128, 2607:f8b0:4001:c00::80\n",
            "Connecting to storage.googleapis.com (storage.googleapis.com)|172.217.214.128|:443... connected.\n",
            "HTTP request sent, awaiting response... 200 OK\n",
            "Length: 6475626955 (6.0G) [application/zip]\n",
            "Saving to: ‘/tmp/quora.zip’\n",
            "\n",
            "/tmp/quora.zip      100%[===================>]   6.03G  72.1MB/s    in 78s     \n",
            "\n",
            "2019-07-05 01:31:25 (79.0 MB/s) - ‘/tmp/quora.zip’ saved [6475626955/6475626955]\n",
            "\n"
          ],
          "name": "stdout"
        }
      ]
    },
    {
      "cell_type": "code",
      "metadata": {
        "id": "fT8Kswg1lXNA",
        "colab_type": "code",
        "colab": {}
      },
      "source": [
        "# Unzipping the downloaded dataset\n",
        "import os\n",
        "import zipfile\n",
        "\n",
        "local_zip='/tmp/quora.zip'\n",
        "zip_ref=zipfile.ZipFile(local_zip,'r')\n",
        "zip_ref.extractall('/tmp/quora')\n",
        "zip_ref.close()"
      ],
      "execution_count": 0,
      "outputs": []
    },
    {
      "cell_type": "code",
      "metadata": {
        "id": "Uf503KX6q2oR",
        "colab_type": "code",
        "colab": {}
      },
      "source": [
        "# Unzipping the word embeddings\n",
        "import os\n",
        "import zipfile\n",
        "\n",
        "local_zip='/tmp/quora/embeddings.zip'\n",
        "zip_ref=zipfile.ZipFile(local_zip,'r')\n",
        "zip_ref.extractall('/tmp/quora/embeddings')\n",
        "zip_ref.close()"
      ],
      "execution_count": 0,
      "outputs": []
    },
    {
      "cell_type": "code",
      "metadata": {
        "id": "tlrXcgANrhJ1",
        "colab_type": "code",
        "colab": {}
      },
      "source": [
        "#Loading the Dataset\n",
        "import pandas as pd\n",
        "df=pd.read_csv('/tmp/quora/train.csv')\n",
        "df_test=pd.read_csv('/tmp/quora/test.csv')"
      ],
      "execution_count": 0,
      "outputs": []
    },
    {
      "cell_type": "code",
      "metadata": {
        "id": "R5f-fxoWs1kK",
        "colab_type": "code",
        "outputId": "b09321c7-3a84-40b8-9029-8b41a13703b0",
        "colab": {
          "base_uri": "https://localhost:8080/",
          "height": 143
        }
      },
      "source": [
        "df.head(3)"
      ],
      "execution_count": 10,
      "outputs": [
        {
          "output_type": "execute_result",
          "data": {
            "text/html": [
              "<div>\n",
              "<style scoped>\n",
              "    .dataframe tbody tr th:only-of-type {\n",
              "        vertical-align: middle;\n",
              "    }\n",
              "\n",
              "    .dataframe tbody tr th {\n",
              "        vertical-align: top;\n",
              "    }\n",
              "\n",
              "    .dataframe thead th {\n",
              "        text-align: right;\n",
              "    }\n",
              "</style>\n",
              "<table border=\"1\" class=\"dataframe\">\n",
              "  <thead>\n",
              "    <tr style=\"text-align: right;\">\n",
              "      <th></th>\n",
              "      <th>qid</th>\n",
              "      <th>question_text</th>\n",
              "      <th>target</th>\n",
              "    </tr>\n",
              "  </thead>\n",
              "  <tbody>\n",
              "    <tr>\n",
              "      <th>0</th>\n",
              "      <td>00002165364db923c7e6</td>\n",
              "      <td>How did Quebec nationalists see their province...</td>\n",
              "      <td>0</td>\n",
              "    </tr>\n",
              "    <tr>\n",
              "      <th>1</th>\n",
              "      <td>000032939017120e6e44</td>\n",
              "      <td>Do you have an adopted dog, how would you enco...</td>\n",
              "      <td>0</td>\n",
              "    </tr>\n",
              "    <tr>\n",
              "      <th>2</th>\n",
              "      <td>0000412ca6e4628ce2cf</td>\n",
              "      <td>Why does velocity affect time? Does velocity a...</td>\n",
              "      <td>0</td>\n",
              "    </tr>\n",
              "  </tbody>\n",
              "</table>\n",
              "</div>"
            ],
            "text/plain": [
              "                    qid  ... target\n",
              "0  00002165364db923c7e6  ...      0\n",
              "1  000032939017120e6e44  ...      0\n",
              "2  0000412ca6e4628ce2cf  ...      0\n",
              "\n",
              "[3 rows x 3 columns]"
            ]
          },
          "metadata": {
            "tags": []
          },
          "execution_count": 10
        }
      ]
    },
    {
      "cell_type": "code",
      "metadata": {
        "id": "0d7TbgQvZ47S",
        "colab_type": "code",
        "colab": {
          "base_uri": "https://localhost:8080/",
          "height": 143
        },
        "outputId": "b7a39f63-1351-4963-8d21-61060f70fc18"
      },
      "source": [
        "df_test.head(3)"
      ],
      "execution_count": 11,
      "outputs": [
        {
          "output_type": "execute_result",
          "data": {
            "text/html": [
              "<div>\n",
              "<style scoped>\n",
              "    .dataframe tbody tr th:only-of-type {\n",
              "        vertical-align: middle;\n",
              "    }\n",
              "\n",
              "    .dataframe tbody tr th {\n",
              "        vertical-align: top;\n",
              "    }\n",
              "\n",
              "    .dataframe thead th {\n",
              "        text-align: right;\n",
              "    }\n",
              "</style>\n",
              "<table border=\"1\" class=\"dataframe\">\n",
              "  <thead>\n",
              "    <tr style=\"text-align: right;\">\n",
              "      <th></th>\n",
              "      <th>qid</th>\n",
              "      <th>question_text</th>\n",
              "    </tr>\n",
              "  </thead>\n",
              "  <tbody>\n",
              "    <tr>\n",
              "      <th>0</th>\n",
              "      <td>0000163e3ea7c7a74cd7</td>\n",
              "      <td>Why do so many women become so rude and arroga...</td>\n",
              "    </tr>\n",
              "    <tr>\n",
              "      <th>1</th>\n",
              "      <td>00002bd4fb5d505b9161</td>\n",
              "      <td>When should I apply for RV college of engineer...</td>\n",
              "    </tr>\n",
              "    <tr>\n",
              "      <th>2</th>\n",
              "      <td>00007756b4a147d2b0b3</td>\n",
              "      <td>What is it really like to be a nurse practitio...</td>\n",
              "    </tr>\n",
              "  </tbody>\n",
              "</table>\n",
              "</div>"
            ],
            "text/plain": [
              "                    qid                                      question_text\n",
              "0  0000163e3ea7c7a74cd7  Why do so many women become so rude and arroga...\n",
              "1  00002bd4fb5d505b9161  When should I apply for RV college of engineer...\n",
              "2  00007756b4a147d2b0b3  What is it really like to be a nurse practitio..."
            ]
          },
          "metadata": {
            "tags": []
          },
          "execution_count": 11
        }
      ]
    },
    {
      "cell_type": "code",
      "metadata": {
        "id": "-duWAgEwtd7v",
        "colab_type": "code",
        "outputId": "8cf493b6-c78a-4682-952b-3d1b1e24be37",
        "colab": {
          "base_uri": "https://localhost:8080/",
          "height": 72
        }
      },
      "source": [
        "#Class Distribution\n",
        "df['target'].value_counts()"
      ],
      "execution_count": 12,
      "outputs": [
        {
          "output_type": "execute_result",
          "data": {
            "text/plain": [
              "0    1225312\n",
              "1      80810\n",
              "Name: target, dtype: int64"
            ]
          },
          "metadata": {
            "tags": []
          },
          "execution_count": 12
        }
      ]
    },
    {
      "cell_type": "code",
      "metadata": {
        "id": "N-bdNTbdtLhY",
        "colab_type": "code",
        "outputId": "d857babb-257c-4932-d785-f1ea0d41a9b7",
        "colab": {
          "base_uri": "https://localhost:8080/",
          "height": 90
        }
      },
      "source": [
        "#Functions for Preprocessing the Dataset\n",
        "import nltk\n",
        "from nltk import word_tokenize\n",
        "nltk.download('stopwords')\n",
        "from nltk.corpus import stopwords\n",
        "nltk.download('punkt')\n",
        "stop_words = set(stopwords.words('english'))\n",
        "\n",
        "\n",
        "def mystopwords(text):\n",
        "    return ' '.join([w for w in word_tokenize(text) if not w in stop_words])\n",
        "\n",
        "import re\n",
        "def clean_text(string):\n",
        "  clean=re.sub('[\\n]',' ',string) #remove newline character\n",
        "  clean=re.sub('[^a-zA-Z]',' ',clean) #remove non alphabetic characters\n",
        "  clean=mystopwords(clean) #remove stopwords\n",
        "  return clean"
      ],
      "execution_count": 13,
      "outputs": [
        {
          "output_type": "stream",
          "text": [
            "[nltk_data] Downloading package stopwords to /root/nltk_data...\n",
            "[nltk_data]   Unzipping corpora/stopwords.zip.\n",
            "[nltk_data] Downloading package punkt to /root/nltk_data...\n",
            "[nltk_data]   Unzipping tokenizers/punkt.zip.\n"
          ],
          "name": "stdout"
        }
      ]
    },
    {
      "cell_type": "code",
      "metadata": {
        "id": "4BWdGI8QtTlB",
        "colab_type": "code",
        "colab": {}
      },
      "source": [
        "#Cleaning the data and separating the texts and labels\n",
        "sentences=[]\n",
        "labels=[]\n",
        "for i in range(len(df)):\n",
        "  labels.append(df['target'][i])\n",
        "  sentences.append(clean_text(df['question_text'][i]))"
      ],
      "execution_count": 0,
      "outputs": []
    },
    {
      "cell_type": "code",
      "metadata": {
        "id": "pnx8KTnednfr",
        "colab_type": "code",
        "colab": {}
      },
      "source": [
        "test_sentences=[]\n",
        "for i in range(len(df_test)):\n",
        "  test_sentences.append(clean_text(df['question_text'][i]))"
      ],
      "execution_count": 0,
      "outputs": []
    },
    {
      "cell_type": "code",
      "metadata": {
        "id": "rLMGL77muVlV",
        "colab_type": "code",
        "colab": {}
      },
      "source": [
        "#Suffling the data and splitting the data into train and test sets (90:10)\n",
        "from sklearn.model_selection import train_test_split\n",
        "train_sentences, val_sentences, train_labels, val_labels= train_test_split(sentences, labels, test_size=0.1, shuffle= True)"
      ],
      "execution_count": 0,
      "outputs": []
    },
    {
      "cell_type": "code",
      "metadata": {
        "id": "pB1h2-DVu0TN",
        "colab_type": "code",
        "outputId": "9e04ee28-a6a6-4420-8ecd-9d86145401c1",
        "colab": {
          "base_uri": "https://localhost:8080/",
          "height": 90
        }
      },
      "source": [
        "#Data Summary\n",
        "print('Length of the Data: ',len(df))\n",
        "print('No. of Training Examples: ',len(train_sentences))\n",
        "print('No. of Validation Examples: ',len(val_sentences))\n",
        "print('No. of Classes: ',df['target'].nunique())"
      ],
      "execution_count": 17,
      "outputs": [
        {
          "output_type": "stream",
          "text": [
            "Length of the Data:  1306122\n",
            "No. of Training Examples:  1175509\n",
            "No. of Validation Examples:  130613\n",
            "No. of Classes:  2\n"
          ],
          "name": "stdout"
        }
      ]
    },
    {
      "cell_type": "markdown",
      "metadata": {
        "id": "f085D4OA0O4y",
        "colab_type": "text"
      },
      "source": [
        "# **Bag of Words Models**"
      ]
    },
    {
      "cell_type": "markdown",
      "metadata": {
        "id": "EDyEl0KDPsTL",
        "colab_type": "text"
      },
      "source": [
        "## **Multinomial Naive Bayes Classifier**"
      ]
    },
    {
      "cell_type": "code",
      "metadata": {
        "id": "kyuvIfWDvye8",
        "colab_type": "code",
        "colab": {}
      },
      "source": [
        "from sklearn.feature_extraction.text import CountVectorizer\n",
        "from sklearn.feature_extraction.text import TfidfTransformer\n",
        "from sklearn.naive_bayes import MultinomialNB\n",
        "from sklearn.pipeline import Pipeline\n",
        "pipeline=Pipeline([('bow',CountVectorizer(analyzer=clean_text)),\n",
        "                   ('tfidf',TfidfTransformer()),\n",
        "                   ('classifier',MultinomialNB())\n",
        "                   ])"
      ],
      "execution_count": 0,
      "outputs": []
    },
    {
      "cell_type": "code",
      "metadata": {
        "id": "mLYm-R4dP43R",
        "colab_type": "code",
        "colab": {
          "base_uri": "https://localhost:8080/",
          "height": 651
        },
        "outputId": "b35c9846-e92d-40cf-af77-b862e5dd14fb"
      },
      "source": [
        "pipeline.fit(train_sentences,train_labels)\n",
        "pred=pipeline.predict(val_sentences)\n",
        "\n",
        "from sklearn.metrics import accuracy_score\n",
        "print('Test Accuracy using MultiNomial Naive Bayes Classifier: ',accuracy_score(val_labels,pred))\n",
        "\n",
        "from sklearn.metrics import classification_report\n",
        "print(classification_report(val_labels,pred))\n",
        "import matplotlib.pyplot as plt\n",
        "from sklearn.metrics import confusion_matrix\n",
        "print(confusion_matrix(val_labels, pred))\n",
        "CM = confusion_matrix(val_labels, pred)\n",
        "from mlxtend.plotting import plot_confusion_matrix\n",
        "fig, ax = plot_confusion_matrix(conf_mat=CM ,  figsize=(5, 5))\n",
        "plt.show()"
      ],
      "execution_count": 121,
      "outputs": [
        {
          "output_type": "stream",
          "text": [
            "/usr/local/lib/python3.6/dist-packages/sklearn/utils/validation.py:724: DataConversionWarning: A column-vector y was passed when a 1d array was expected. Please change the shape of y to (n_samples, ), for example using ravel().\n",
            "  y = column_or_1d(y, warn=True)\n"
          ],
          "name": "stderr"
        },
        {
          "output_type": "stream",
          "text": [
            "Test Accuracy using MultiNomial Naive Bayes Classifier:  0.9381455138462481\n",
            "              precision    recall  f1-score   support\n",
            "\n",
            "           0       0.94      1.00      0.97    122534\n",
            "           1       0.00      0.00      0.00      8079\n",
            "\n",
            "    accuracy                           0.94    130613\n",
            "   macro avg       0.47      0.50      0.48    130613\n",
            "weighted avg       0.88      0.94      0.91    130613\n",
            "\n"
          ],
          "name": "stdout"
        },
        {
          "output_type": "stream",
          "text": [
            "/usr/local/lib/python3.6/dist-packages/sklearn/metrics/classification.py:1437: UndefinedMetricWarning: Precision and F-score are ill-defined and being set to 0.0 in labels with no predicted samples.\n",
            "  'precision', 'predicted', average, warn_for)\n"
          ],
          "name": "stderr"
        },
        {
          "output_type": "stream",
          "text": [
            "[[122534      0]\n",
            " [  8079      0]]\n"
          ],
          "name": "stdout"
        },
        {
          "output_type": "display_data",
          "data": {
            "image/png": "[encoded data removed]",
            "text/plain": [
              "<Figure size 360x360 with 1 Axes>"
            ]
          },
          "metadata": {
            "tags": []
          }
        }
      ]
    },
    {
      "cell_type": "markdown",
      "metadata": {
        "id": "0A87pt-lU-lq",
        "colab_type": "text"
      },
      "source": [
        "### **While the classifier has a high accuracy, it fails to classify  even a single example from the minority class **"
      ]
    },
    {
      "cell_type": "markdown",
      "metadata": {
        "id": "38d7tgwpUdf7",
        "colab_type": "text"
      },
      "source": [
        "## **Logistic Regression**"
      ]
    },
    {
      "cell_type": "code",
      "metadata": {
        "id": "x0S-nppyUmVM",
        "colab_type": "code",
        "colab": {}
      },
      "source": [
        "from sklearn.feature_extraction.text import CountVectorizer\n",
        "from sklearn.feature_extraction.text import TfidfTransformer\n",
        "from sklearn.naive_bayes import MultinomialNB\n",
        "from sklearn.pipeline import Pipeline\n",
        "from sklearn.linear_model import LogisticRegression\n",
        "pipeline=Pipeline([('bow',CountVectorizer(analyzer=clean_text)),\n",
        "                   ('tfidf',TfidfTransformer()),\n",
        "                   ('classifier',LogisticRegression())\n",
        "                   ])"
      ],
      "execution_count": 0,
      "outputs": []
    },
    {
      "cell_type": "code",
      "metadata": {
        "id": "6L5z57cOU3xP",
        "colab_type": "code",
        "colab": {
          "base_uri": "https://localhost:8080/",
          "height": 614
        },
        "outputId": "f726ebef-49c2-4759-e587-f202ac9d57b8"
      },
      "source": [
        "pipeline.fit(train_sentences,train_labels)\n",
        "pred=pipeline.predict(val_sentences)\n",
        "\n",
        "from sklearn.metrics import accuracy_score\n",
        "print('Test Accuracy using Logistic Regression Classifier: ',accuracy_score(val_labels,pred))\n",
        "\n",
        "import matplotlib.pyplot as plt\n",
        "from sklearn.metrics import classification_report\n",
        "print(classification_report(val_labels,pred))\n",
        "\n",
        "from sklearn.metrics import confusion_matrix\n",
        "print(confusion_matrix(val_labels, pred))\n",
        "CM = confusion_matrix(val_labels, pred)\n",
        "from mlxtend.plotting import plot_confusion_matrix\n",
        "fig, ax = plot_confusion_matrix(conf_mat=CM ,  figsize=(5, 5))\n",
        "plt.show()"
      ],
      "execution_count": 23,
      "outputs": [
        {
          "output_type": "stream",
          "text": [
            "/usr/local/lib/python3.6/dist-packages/sklearn/linear_model/logistic.py:432: FutureWarning: Default solver will be changed to 'lbfgs' in 0.22. Specify a solver to silence this warning.\n",
            "  FutureWarning)\n"
          ],
          "name": "stderr"
        },
        {
          "output_type": "stream",
          "text": [
            "Test Accuracy using Logistic Regression Classifier:  0.938130201434773\n",
            "              precision    recall  f1-score   support\n",
            "\n",
            "           0       0.94      1.00      0.97    122534\n",
            "           1       0.48      0.00      0.00      8079\n",
            "\n",
            "    accuracy                           0.94    130613\n",
            "   macro avg       0.71      0.50      0.49    130613\n",
            "weighted avg       0.91      0.94      0.91    130613\n",
            "\n",
            "[[122512     22]\n",
            " [  8059     20]]\n"
          ],
          "name": "stdout"
        },
        {
          "output_type": "display_data",
          "data": {
            "image/png": "[encoded data removed]",
            "text/plain": [
              "<Figure size 360x360 with 1 Axes>"
            ]
          },
          "metadata": {
            "tags": []
          }
        }
      ]
    },
    {
      "cell_type": "markdown",
      "metadata": {
        "id": "vK77SvjqptcY",
        "colab_type": "text"
      },
      "source": [
        "### **This classifier could classify a few instances of the minority class. Yet, the results are abysmal.**"
      ]
    },
    {
      "cell_type": "markdown",
      "metadata": {
        "id": "RF3O5yRaYWsJ",
        "colab_type": "text"
      },
      "source": [
        "# **Word Embedding Models**"
      ]
    },
    {
      "cell_type": "code",
      "metadata": {
        "id": "Q_tJ81sOYeqS",
        "colab_type": "code",
        "colab": {
          "base_uri": "https://localhost:8080/",
          "height": 54
        },
        "outputId": "905e4210-4a12-4208-b5d9-97c2f2919cb1"
      },
      "source": [
        "#Tokenization and Padding\n",
        "import tensorflow as tf\n",
        "import numpy as np\n",
        "\n",
        "from tensorflow.keras.preprocessing.text import Tokenizer\n",
        "from tensorflow.keras.preprocessing.sequence import pad_sequences\n",
        "\n",
        "\n",
        "embedding_dim = 300\n",
        "max_length = 100\n",
        "trunc_type='post'\n",
        "padding_type='post'\n",
        "oov_tok = \"<OOV>\"\n",
        "vocab_len=49999\n",
        "\n",
        "\n",
        "tokenizer = Tokenizer(num_words=vocab_len+1,oov_token=oov_tok)\n",
        "tokenizer.fit_on_texts(sentences)\n",
        "\n",
        "word_index = tokenizer.word_index\n",
        "vocab_size=len(word_index)\n",
        "print('Original Size of Vocabulary: ',vocab_size)\n",
        "\n",
        "word_index = {e:i for e,i in word_index.items() if i <= vocab_len+1} #Reducing the Size of Vocabulary\n",
        "print('New Size of Vocabulary: ',len(word_index))\n",
        "\n",
        "sequences = tokenizer.texts_to_sequences(sentences)\n",
        "padded = pad_sequences(sequences, maxlen=max_length, padding=padding_type, truncating=trunc_type)\n",
        "\n",
        "train_sequences = tokenizer.texts_to_sequences(train_sentences)\n",
        "train_padded = pad_sequences(train_sequences, maxlen=max_length, padding=padding_type, truncating=trunc_type)\n",
        "\n",
        "val_sequences = tokenizer.texts_to_sequences(val_sentences)\n",
        "val_padded = pad_sequences(val_sequences, maxlen=max_length, padding=padding_type, truncating=trunc_type)\n",
        "\n",
        "test_sequences = tokenizer.texts_to_sequences(test_sentences)\n",
        "test_padded = pad_sequences(test_sequences, maxlen=max_length, padding=padding_type, truncating=trunc_type)\n",
        "\n",
        "train_labels=np.expand_dims(train_labels, axis=1)\n",
        "val_labels=np.expand_dims(val_labels, axis=1)\n"
      ],
      "execution_count": 24,
      "outputs": [
        {
          "output_type": "stream",
          "text": [
            "Original Size of Vocabulary:  178863\n",
            "New Size of Vocabulary:  50000\n"
          ],
          "name": "stdout"
        }
      ]
    },
    {
      "cell_type": "code",
      "metadata": {
        "id": "VYpxyjtjhEzh",
        "colab_type": "code",
        "colab": {
          "base_uri": "https://localhost:8080/",
          "height": 109
        },
        "outputId": "8581ac9d-a3b5-4e7e-a610-0301fcf83e11"
      },
      "source": [
        "#Dimension of Data after Tokenizing and Padding\n",
        "print('Dimension of Training Data: ',train_padded.shape)\n",
        "print('Dimension of Validation Data: ',val_padded.shape)\n",
        "print('Dimension of Training Labels: ',train_labels.shape)\n",
        "print('Dimension of Validation Labels: ',val_labels.shape)\n",
        "print('Dimension of Test Data: ',test_padded.shape)"
      ],
      "execution_count": 25,
      "outputs": [
        {
          "output_type": "stream",
          "text": [
            "Dimension of Training Data:  (1175509, 100)\n",
            "Dimension of Validation Data:  (130613, 100)\n",
            "Dimension of Training Labels:  (1175509, 1)\n",
            "Dimension of Validation Labels:  (130613, 1)\n",
            "Dimension of Test Data:  (375806, 100)\n"
          ],
          "name": "stdout"
        }
      ]
    },
    {
      "cell_type": "markdown",
      "metadata": {
        "id": "RBpItmz724Fq",
        "colab_type": "text"
      },
      "source": [
        "## **Bidirectional LSTM Model**"
      ]
    },
    {
      "cell_type": "code",
      "metadata": {
        "id": "QEeuA_LKiJYf",
        "colab_type": "code",
        "colab": {}
      },
      "source": [
        "#Building the Bidirectional LSTM Model\n",
        "model = tf.keras.Sequential([\n",
        "    tf.keras.layers.Embedding(vocab_len+1, embedding_dim, input_length=max_length),\n",
        "    tf.keras.layers.Bidirectional(tf.keras.layers.CuDNNLSTM(64,return_sequences=True)),\n",
        "    tf.keras.layers.Flatten(),\n",
        "    tf.keras.layers.Dense(16, activation='relu'),\n",
        "    tf.keras.layers.Dropout(0.1),\n",
        "    tf.keras.layers.Dense(1, activation='sigmoid')\n",
        "])"
      ],
      "execution_count": 0,
      "outputs": []
    },
    {
      "cell_type": "code",
      "metadata": {
        "id": "-jVsNlOKiUxU",
        "colab_type": "code",
        "colab": {
          "base_uri": "https://localhost:8080/",
          "height": 219
        },
        "outputId": "3fb976d8-92e6-44b1-b611-d5893849b420"
      },
      "source": [
        "reduce =tf. keras.callbacks.ReduceLROnPlateau(monitor='val_loss', factor=0.1, patience=3, mode='auto')\n",
        "#early = tf.keras.callbacks.EarlyStopping(monitor='val_loss', min_delta=1e-4, patience=10, mode='auto')\n",
        "model.compile(loss='binary_crossentropy',optimizer='rmsprop',metrics=['accuracy'])\n",
        "num_epochs = 5\n",
        "history=model.fit(train_padded, train_labels, epochs=num_epochs, batch_size=512, validation_data=(val_padded,val_labels),callbacks=[reduce],verbose=1)"
      ],
      "execution_count": 64,
      "outputs": [
        {
          "output_type": "stream",
          "text": [
            "Train on 1175509 samples, validate on 130613 samples\n",
            "Epoch 1/5\n",
            "1175509/1175509 [==============================] - 102s 87us/sample - loss: 0.1277 - acc: 0.9514 - val_loss: 0.1168 - val_acc: 0.9544\n",
            "Epoch 2/5\n",
            "1175509/1175509 [==============================] - 101s 86us/sample - loss: 0.1158 - acc: 0.9557 - val_loss: 0.1181 - val_acc: 0.9548\n",
            "Epoch 3/5\n",
            "1175509/1175509 [==============================] - 100s 85us/sample - loss: 0.1104 - acc: 0.9580 - val_loss: 0.1129 - val_acc: 0.9562\n",
            "Epoch 4/5\n",
            "1175509/1175509 [==============================] - 101s 86us/sample - loss: 0.1060 - acc: 0.9600 - val_loss: 0.1126 - val_acc: 0.9563\n",
            "Epoch 5/5\n",
            "1175509/1175509 [==============================] - 102s 86us/sample - loss: 0.1018 - acc: 0.9618 - val_loss: 0.1169 - val_acc: 0.9535\n"
          ],
          "name": "stdout"
        }
      ]
    },
    {
      "cell_type": "code",
      "metadata": {
        "id": "j1G6_oKKlaaJ",
        "colab_type": "code",
        "colab": {
          "base_uri": "https://localhost:8080/",
          "height": 201
        },
        "outputId": "a94ea538-9bd6-4712-f305-7c2d527b8f2e"
      },
      "source": [
        "#Determining the optimal threshold value to seggregate the classes\n",
        "pred1 = model.predict(val_padded, batch_size=512,verbose=1)\n",
        "from sklearn import metrics\n",
        "for thresh in np.arange(0.1, 0.501, 0.05):\n",
        "    thresh = np.round(thresh, 2)\n",
        "    print(\"F1 score at threshold {0} is {1}\".format(thresh, metrics.f1_score(val_labels, (pred1>thresh).astype(int))))"
      ],
      "execution_count": 93,
      "outputs": [
        {
          "output_type": "stream",
          "text": [
            "130613/130613 [==============================] - 4s 33us/sample\n",
            "F1 score at threshold 0.1 is 0.5061702277695508\n",
            "F1 score at threshold 0.15 is 0.554305008441193\n",
            "F1 score at threshold 0.2 is 0.5837030529321326\n",
            "F1 score at threshold 0.25 is 0.6046665095451332\n",
            "F1 score at threshold 0.3 is 0.6197676747446424\n",
            "F1 score at threshold 0.35 is 0.6268546774702726\n",
            "F1 score at threshold 0.4 is 0.6338253994581743\n",
            "F1 score at threshold 0.45 is 0.6337195828505215\n",
            "F1 score at threshold 0.5 is 0.6313937261088526\n"
          ],
          "name": "stdout"
        }
      ]
    },
    {
      "cell_type": "code",
      "metadata": {
        "id": "TyNBkAX3kWCx",
        "colab_type": "code",
        "colab": {
          "base_uri": "https://localhost:8080/",
          "height": 539
        },
        "outputId": "2b62f10e-25c4-4e2d-ab14-18c0efc86adc"
      },
      "source": [
        "# From above, we can see that F1 score is highest at a threshold of 0.4\n",
        "pred_val_labels=(pred1>0.4).astype(int)\n",
        "\n",
        "from sklearn.metrics import classification_report\n",
        "print(classification_report(val_labels,pred_val_labels))\n",
        "\n",
        "from sklearn.metrics import confusion_matrix\n",
        "print(confusion_matrix(val_labels, pred_val_labels))\n",
        "CM = confusion_matrix(val_labels, pred_val_labels)\n",
        "from mlxtend.plotting import plot_confusion_matrix\n",
        "fig, ax = plot_confusion_matrix(conf_mat=CM ,  figsize=(5, 5))\n",
        "plt.show()"
      ],
      "execution_count": 96,
      "outputs": [
        {
          "output_type": "stream",
          "text": [
            "              precision    recall  f1-score   support\n",
            "\n",
            "           0       0.98      0.97      0.97    122534\n",
            "           1       0.57      0.71      0.63      8079\n",
            "\n",
            "    accuracy                           0.95    130613\n",
            "   macro avg       0.78      0.84      0.80    130613\n",
            "weighted avg       0.96      0.95      0.95    130613\n",
            "\n",
            "[[118258   4276]\n",
            " [  2347   5732]]\n"
          ],
          "name": "stdout"
        },
        {
          "output_type": "display_data",
          "data": {
            "image/png": "[encoded data removed]",
            "text/plain": [
              "<Figure size 360x360 with 1 Axes>"
            ]
          },
          "metadata": {
            "tags": []
          }
        }
      ]
    },
    {
      "cell_type": "markdown",
      "metadata": {
        "id": "3dS1MCn2PhGr",
        "colab_type": "text"
      },
      "source": [
        "## **Bidirectional GRU**"
      ]
    },
    {
      "cell_type": "code",
      "metadata": {
        "id": "Z6IFv6UvO6ai",
        "colab_type": "code",
        "colab": {}
      },
      "source": [
        "#Building the Bidirectional GRU Model\n",
        "model_gru = tf.keras.Sequential([\n",
        "    tf.keras.layers.Embedding(vocab_len+1, embedding_dim, input_length=max_length),\n",
        "    tf.keras.layers.Bidirectional(tf.keras.layers.CuDNNGRU(64,return_sequences=True)),\n",
        "    tf.keras.layers.Flatten(),\n",
        "    tf.keras.layers.Dense(16, activation='relu'),\n",
        "    tf.keras.layers.Dropout(0.1),\n",
        "    tf.keras.layers.Dense(1, activation='sigmoid')\n",
        "])"
      ],
      "execution_count": 0,
      "outputs": []
    },
    {
      "cell_type": "code",
      "metadata": {
        "id": "FycKoJRrO6w7",
        "colab_type": "code",
        "colab": {
          "base_uri": "https://localhost:8080/",
          "height": 219
        },
        "outputId": "b9d5ef13-bea4-4c20-e060-57c0712a5a2b"
      },
      "source": [
        "reduce =tf. keras.callbacks.ReduceLROnPlateau(monitor='val_loss', factor=0.1, patience=3, mode='auto')\n",
        "#early = tf.keras.callbacks.EarlyStopping(monitor='val_loss', min_delta=1e-4, patience=10, mode='auto')\n",
        "model_gru.compile(loss='binary_crossentropy',optimizer='rmsprop',metrics=['accuracy'])\n",
        "num_epochs = 5\n",
        "history_gru=model_gru.fit(train_padded, train_labels, epochs=num_epochs, batch_size=512, validation_data=(val_padded,val_labels),callbacks=[reduce],verbose=1)"
      ],
      "execution_count": 74,
      "outputs": [
        {
          "output_type": "stream",
          "text": [
            "Train on 1175509 samples, validate on 130613 samples\n",
            "Epoch 1/5\n",
            "1175509/1175509 [==============================] - 94s 80us/sample - loss: 0.1276 - acc: 0.9513 - val_loss: 0.1179 - val_acc: 0.9545\n",
            "Epoch 2/5\n",
            "1175509/1175509 [==============================] - 91s 78us/sample - loss: 0.1145 - acc: 0.9562 - val_loss: 0.1139 - val_acc: 0.9559\n",
            "Epoch 3/5\n",
            "1175509/1175509 [==============================] - 91s 77us/sample - loss: 0.1088 - acc: 0.9588 - val_loss: 0.1134 - val_acc: 0.9566\n",
            "Epoch 4/5\n",
            "1175509/1175509 [==============================] - 91s 77us/sample - loss: 0.1040 - acc: 0.9606 - val_loss: 0.1133 - val_acc: 0.9560\n",
            "Epoch 5/5\n",
            "1175509/1175509 [==============================] - 91s 78us/sample - loss: 0.0987 - acc: 0.9630 - val_loss: 0.1150 - val_acc: 0.9557\n"
          ],
          "name": "stdout"
        }
      ]
    },
    {
      "cell_type": "code",
      "metadata": {
        "id": "ydxR3Hk5O7Og",
        "colab_type": "code",
        "colab": {
          "base_uri": "https://localhost:8080/",
          "height": 182
        },
        "outputId": "cce3ceaa-7655-4572-e8a9-5b6ca5a3b217"
      },
      "source": [
        "#Determining the optimal threshold value to seggregate the classes\n",
        "pred2 = model_gru.predict(val_padded, batch_size=512,verbose=1)\n",
        "from sklearn import metrics\n",
        "for thresh in np.arange(0.1, 0.5, 0.05):\n",
        "    thresh = np.round(thresh, 2)\n",
        "    print(\"F1 score at threshold {0} is {1}\".format(thresh, metrics.f1_score(val_labels, (pred2>thresh).astype(int))))"
      ],
      "execution_count": 97,
      "outputs": [
        {
          "output_type": "stream",
          "text": [
            "130613/130613 [==============================] - 4s 28us/sample\n",
            "F1 score at threshold 0.1 is 0.5567750622220409\n",
            "F1 score at threshold 0.15 is 0.5883733525907203\n",
            "F1 score at threshold 0.2 is 0.6078890841632494\n",
            "F1 score at threshold 0.25 is 0.6221012406428309\n",
            "F1 score at threshold 0.3 is 0.6281488072068064\n",
            "F1 score at threshold 0.35 is 0.6287754624209788\n",
            "F1 score at threshold 0.4 is 0.6258855417975728\n",
            "F1 score at threshold 0.45 is 0.6158066623122141\n"
          ],
          "name": "stdout"
        }
      ]
    },
    {
      "cell_type": "code",
      "metadata": {
        "id": "8bId1CBrO7n6",
        "colab_type": "code",
        "colab": {
          "base_uri": "https://localhost:8080/",
          "height": 539
        },
        "outputId": "e0f4b7cb-3c1e-4a83-c240-33dcee8d4a90"
      },
      "source": [
        "# From above, we can see that F1 score is highest at a threshold of 0.3\n",
        "pred_val_labels_gru=(pred2>0.3).astype(int)\n",
        "\n",
        "from sklearn.metrics import classification_report\n",
        "print(classification_report(val_labels,pred_val_labels_gru))\n",
        "\n",
        "from sklearn.metrics import confusion_matrix\n",
        "print(confusion_matrix(val_labels, pred_val_labels_gru))\n",
        "CM = confusion_matrix(val_labels, pred_val_labels_gru)\n",
        "from mlxtend.plotting import plot_confusion_matrix\n",
        "fig, ax = plot_confusion_matrix(conf_mat=CM ,  figsize=(5, 5))\n",
        "plt.show()"
      ],
      "execution_count": 100,
      "outputs": [
        {
          "output_type": "stream",
          "text": [
            "              precision    recall  f1-score   support\n",
            "\n",
            "           0       0.98      0.97      0.97    122534\n",
            "           1       0.57      0.70      0.63      8079\n",
            "\n",
            "    accuracy                           0.95    130613\n",
            "   macro avg       0.78      0.83      0.80    130613\n",
            "weighted avg       0.95      0.95      0.95    130613\n",
            "\n",
            "[[118278   4256]\n",
            " [  2431   5648]]\n"
          ],
          "name": "stdout"
        },
        {
          "output_type": "display_data",
          "data": {
            "image/png": "[encoded data removed]",
            "text/plain": [
              "<Figure size 360x360 with 1 Axes>"
            ]
          },
          "metadata": {
            "tags": []
          }
        }
      ]
    },
    {
      "cell_type": "markdown",
      "metadata": {
        "id": "FbDYQOgo3aog",
        "colab_type": "text"
      },
      "source": [
        "# **Pretrained Word Embeddings**"
      ]
    },
    {
      "cell_type": "markdown",
      "metadata": {
        "id": "z-KlJRAc35zm",
        "colab_type": "text"
      },
      "source": [
        "## **fastText**"
      ]
    },
    {
      "cell_type": "markdown",
      "metadata": {
        "id": "jN1CiinwvrHl",
        "colab_type": "text"
      },
      "source": [
        "**crawl-300d-2M**"
      ]
    },
    {
      "cell_type": "code",
      "metadata": {
        "id": "3TbJmJyHurLx",
        "colab_type": "code",
        "colab": {
          "base_uri": "https://localhost:8080/",
          "height": 129
        },
        "outputId": "721f0152-5712-4828-ac10-9215574d6e67"
      },
      "source": [
        "# Run this cell to mount your Google Drive.\n",
        "from google.colab import drive\n",
        "drive.mount('/content/drive')"
      ],
      "execution_count": 1,
      "outputs": [
        {
          "output_type": "stream",
          "text": [
            "Go to this URL in a browser: https://accounts.google.com/o/oauth2/auth?client_id=947318989803-6bn6qk8qdgf4n4g3pfee6491hc0brc4i.apps.googleusercontent.com&redirect_uri=urn%3Aietf%3Awg%3Aoauth%3A2.0%3Aoob&scope=email%20https%3A%2F%2Fwww.googleapis.com%2Fauth%2Fdocs.test%20https%3A%2F%2Fwww.googleapis.com%2Fauth%2Fdrive%20https%3A%2F%2Fwww.googleapis.com%2Fauth%2Fdrive.photos.readonly%20https%3A%2F%2Fwww.googleapis.com%2Fauth%2Fpeopleapi.readonly&response_type=code\n",
            "\n",
            "Enter your authorization code:\n",
            "··········\n",
            "Mounted at /content/drive\n"
          ],
          "name": "stdout"
        }
      ]
    },
    {
      "cell_type": "code",
      "metadata": {
        "id": "QVPsvLYjvT8y",
        "colab_type": "code",
        "colab": {}
      },
      "source": [
        "# Unzipping the fasttext pretrained model from Google Drive\n",
        "import os\n",
        "import zipfile\n",
        "\n",
        "local_zip='/content/drive/My Drive/crawl-300d-2M.vec.zip'\n",
        "zip_ref=zipfile.ZipFile(local_zip,'r')\n",
        "zip_ref.extractall('/content/drive/My Drive/crawl-300d-2M.vec')\n",
        "zip_ref.close()"
      ],
      "execution_count": 0,
      "outputs": []
    },
    {
      "cell_type": "code",
      "metadata": {
        "id": "78vWlU-WvXzj",
        "colab_type": "code",
        "colab": {}
      },
      "source": [
        "# Loading the pretrained vectors\n",
        "embeddings_index = {}\n",
        "import numpy as np\n",
        "with open('/content/drive/My Drive/crawl-300d-2M.vec/crawl-300d-2M.vec') as f:\n",
        "    for line in f:\n",
        "        values = line.split()\n",
        "        word = values[0]\n",
        "        coefs = np.asarray(values[1:], dtype='float32')\n",
        "        embeddings_index[word] = coefs"
      ],
      "execution_count": 0,
      "outputs": []
    },
    {
      "cell_type": "code",
      "metadata": {
        "id": "dr9wE12mv1mi",
        "colab_type": "code",
        "colab": {}
      },
      "source": [
        "# Creating an embedding matrix that contains the vectors of the words in the dataset\n",
        "embeddings_matrix = np.zeros((vocab_len+2, embedding_dim))\n",
        "for word, i in word_index.items():\n",
        "    embedding_vector = embeddings_index.get(word)\n",
        "    if embedding_vector is not None:\n",
        "        embeddings_matrix[i] = embedding_vector"
      ],
      "execution_count": 0,
      "outputs": []
    },
    {
      "cell_type": "code",
      "metadata": {
        "id": "b58QW2e_2JZI",
        "colab_type": "code",
        "colab": {}
      },
      "source": [
        "embeddings_matrix=np.delete(embeddings_matrix, 1, 0)"
      ],
      "execution_count": 0,
      "outputs": []
    },
    {
      "cell_type": "code",
      "metadata": {
        "id": "bFkkEH_9wBFD",
        "colab_type": "code",
        "colab": {
          "base_uri": "https://localhost:8080/",
          "height": 35
        },
        "outputId": "b4609a43-f38a-4c76-a0b8-817899be99b1"
      },
      "source": [
        "print('Shape of the Embeddings Matrix: ',embeddings_matrix.shape)"
      ],
      "execution_count": 28,
      "outputs": [
        {
          "output_type": "stream",
          "text": [
            "Shape of the Embeddings Matrix:  (50000, 300)\n"
          ],
          "name": "stdout"
        }
      ]
    },
    {
      "cell_type": "code",
      "metadata": {
        "id": "hyx1B5fM2Mks",
        "colab_type": "code",
        "colab": {}
      },
      "source": [
        "model3_lstm = tf.keras.Sequential([\n",
        "    tf.keras.layers.Embedding(vocab_len+1, embedding_dim, input_length=max_length, weights = [embeddings_matrix], trainable = False),\n",
        "    tf.keras.layers.Bidirectional(tf.keras.layers.CuDNNLSTM(64)),\n",
        "    tf.keras.layers.Dense(16, activation='relu'),\n",
        "    tf.keras.layers.Dropout(0.1),\n",
        "    tf.keras.layers.Dense(1, activation='sigmoid')\n",
        "])"
      ],
      "execution_count": 0,
      "outputs": []
    },
    {
      "cell_type": "code",
      "metadata": {
        "id": "6LE67TO92Yha",
        "colab_type": "code",
        "colab": {
          "base_uri": "https://localhost:8080/",
          "height": 219
        },
        "outputId": "d1847373-82d8-4850-fafe-231a59247e1b"
      },
      "source": [
        "reduce =tf. keras.callbacks.ReduceLROnPlateau(monitor='val_loss', factor=0.1, patience=3, mode='auto')\n",
        "#early = tf.keras.callbacks.EarlyStopping(monitor='val_loss', min_delta=1e-4, patience=10, mode='auto')\n",
        "model3_lstm.compile(loss='binary_crossentropy',optimizer='rmsprop',metrics=['accuracy'])\n",
        "num_epochs = 5\n",
        "history3=model3_lstm.fit(train_padded, \n",
        "                    train_labels, \n",
        "                    epochs=num_epochs, \n",
        "                    batch_size=512, \n",
        "                    validation_data=(val_padded,val_labels),\n",
        "                    callbacks=[reduce],\n",
        "                    verbose=1)"
      ],
      "execution_count": 87,
      "outputs": [
        {
          "output_type": "stream",
          "text": [
            "Train on 1175509 samples, validate on 130613 samples\n",
            "Epoch 1/5\n",
            "1175509/1175509 [==============================] - 80s 68us/sample - loss: 0.1546 - acc: 0.9454 - val_loss: 0.1564 - val_acc: 0.9460\n",
            "Epoch 2/5\n",
            "1175509/1175509 [==============================] - 78s 66us/sample - loss: 0.1282 - acc: 0.9511 - val_loss: 0.1293 - val_acc: 0.9521\n",
            "Epoch 3/5\n",
            "1175509/1175509 [==============================] - 78s 66us/sample - loss: 0.1197 - acc: 0.9533 - val_loss: 0.1199 - val_acc: 0.9533\n",
            "Epoch 4/5\n",
            "1175509/1175509 [==============================] - 78s 66us/sample - loss: 0.1144 - acc: 0.9547 - val_loss: 0.1187 - val_acc: 0.9538\n",
            "Epoch 5/5\n",
            "1175509/1175509 [==============================] - 78s 66us/sample - loss: 0.1100 - acc: 0.9561 - val_loss: 0.1171 - val_acc: 0.9542\n"
          ],
          "name": "stdout"
        }
      ]
    },
    {
      "cell_type": "code",
      "metadata": {
        "id": "eP_kgM7M2fa4",
        "colab_type": "code",
        "colab": {
          "base_uri": "https://localhost:8080/",
          "height": 182
        },
        "outputId": "027f2147-c02d-4e32-9a4e-839aa3e488e6"
      },
      "source": [
        "#Determining the optimal threshold value to seggregate the classes\n",
        "pred3= model3_lstm.predict(val_padded, batch_size=512,verbose=1)\n",
        "from sklearn import metrics\n",
        "for thresh in np.arange(0.1, 0.5, 0.05):\n",
        "    thresh = np.round(thresh, 2)\n",
        "    print(\"F1 score at threshold {0} is {1}\".format(thresh, metrics.f1_score(val_labels, (pred3>thresh).astype(int))))"
      ],
      "execution_count": 101,
      "outputs": [
        {
          "output_type": "stream",
          "text": [
            "130613/130613 [==============================] - 4s 29us/sample\n",
            "F1 score at threshold 0.1 is 0.5476286660741697\n",
            "F1 score at threshold 0.15 is 0.5804730249174694\n",
            "F1 score at threshold 0.2 is 0.6031307095945879\n",
            "F1 score at threshold 0.25 is 0.613206046141607\n",
            "F1 score at threshold 0.3 is 0.6179966044142615\n",
            "F1 score at threshold 0.35 is 0.6169499640890591\n",
            "F1 score at threshold 0.4 is 0.6103986354160086\n",
            "F1 score at threshold 0.45 is 0.6004781511488909\n"
          ],
          "name": "stdout"
        }
      ]
    },
    {
      "cell_type": "code",
      "metadata": {
        "id": "_s_XRmXr2st_",
        "colab_type": "code",
        "colab": {
          "base_uri": "https://localhost:8080/",
          "height": 539
        },
        "outputId": "18097cc6-9f74-4d4f-dd22-3dfe74552f8e"
      },
      "source": [
        "#From above, we can see that F1 score is highest at a threshold of 0.3\n",
        "pred_ft3_val_labels=(pred3>0.3).astype(int)\n",
        "\n",
        "from sklearn.metrics import classification_report\n",
        "print(classification_report(val_labels,pred_ft3_val_labels))\n",
        "\n",
        "import matplotlib.pyplot as plt\n",
        "from sklearn.metrics import confusion_matrix\n",
        "print(confusion_matrix(val_labels, pred_ft3_val_labels))\n",
        "CM = confusion_matrix(val_labels, pred_ft3_val_labels)\n",
        "from mlxtend.plotting import plot_confusion_matrix\n",
        "fig, ax = plot_confusion_matrix(conf_mat=CM ,  figsize=(5, 5))\n",
        "plt.show()"
      ],
      "execution_count": 102,
      "outputs": [
        {
          "output_type": "stream",
          "text": [
            "              precision    recall  f1-score   support\n",
            "\n",
            "           0       0.98      0.97      0.97    122534\n",
            "           1       0.57      0.68      0.62      8079\n",
            "\n",
            "    accuracy                           0.95    130613\n",
            "   macro avg       0.77      0.82      0.80    130613\n",
            "weighted avg       0.95      0.95      0.95    130613\n",
            "\n",
            "[[118403   4131]\n",
            " [  2619   5460]]\n"
          ],
          "name": "stdout"
        },
        {
          "output_type": "display_data",
          "data": {
            "image/png": "[encoded data removed]",
            "text/plain": [
              "<Figure size 360x360 with 1 Axes>"
            ]
          },
          "metadata": {
            "tags": []
          }
        }
      ]
    },
    {
      "cell_type": "code",
      "metadata": {
        "id": "bwpCt9BeB_QC",
        "colab_type": "code",
        "colab": {}
      },
      "source": [
        "model4 = tf.keras.Sequential([\n",
        "    tf.keras.layers.Embedding(vocab_len+1, embedding_dim, input_length=max_length, weights = [embeddings_matrix], trainable = False),\n",
        "    tf.keras.layers.Bidirectional(tf.keras.layers.CuDNNGRU(64)),\n",
        "    tf.keras.layers.Dense(16, activation='relu'),\n",
        "    tf.keras.layers.Dropout(0.1),\n",
        "    tf.keras.layers.Dense(1, activation='sigmoid')\n",
        "])"
      ],
      "execution_count": 0,
      "outputs": []
    },
    {
      "cell_type": "code",
      "metadata": {
        "id": "jx9jmqK7CEx0",
        "colab_type": "code",
        "colab": {
          "base_uri": "https://localhost:8080/",
          "height": 219
        },
        "outputId": "4dae94df-0d29-4d8b-da85-fd833b15cdf3"
      },
      "source": [
        "reduce =tf. keras.callbacks.ReduceLROnPlateau(monitor='val_loss', factor=0.1, patience=10, mode='auto')\n",
        "#early = tf.keras.callbacks.EarlyStopping(monitor='val_loss', min_delta=1e-4, patience=10, mode='auto')\n",
        "model4.compile(loss='binary_crossentropy',optimizer='rmsprop',metrics=['accuracy'])\n",
        "num_epochs = 5\n",
        "history4=model4.fit(train_padded, \n",
        "                    train_labels, \n",
        "                    epochs=num_epochs, \n",
        "                    batch_size=512, \n",
        "                    validation_data=(val_padded,val_labels),\n",
        "                    callbacks=[reduce],\n",
        "                    verbose=1)"
      ],
      "execution_count": 43,
      "outputs": [
        {
          "output_type": "stream",
          "text": [
            "Train on 1175509 samples, validate on 130613 samples\n",
            "Epoch 1/5\n",
            "1175509/1175509 [==============================] - 68s 58us/sample - loss: 0.1542 - acc: 0.9459 - val_loss: 0.1382 - val_acc: 0.9492\n",
            "Epoch 2/5\n",
            "1175509/1175509 [==============================] - 66s 57us/sample - loss: 0.1283 - acc: 0.9515 - val_loss: 0.1248 - val_acc: 0.9522\n",
            "Epoch 3/5\n",
            "1175509/1175509 [==============================] - 66s 56us/sample - loss: 0.1207 - acc: 0.9534 - val_loss: 0.1207 - val_acc: 0.9534\n",
            "Epoch 4/5\n",
            "1175509/1175509 [==============================] - 66s 56us/sample - loss: 0.1159 - acc: 0.9548 - val_loss: 0.1183 - val_acc: 0.9541\n",
            "Epoch 5/5\n",
            "1175509/1175509 [==============================] - 66s 56us/sample - loss: 0.1121 - acc: 0.9558 - val_loss: 0.1184 - val_acc: 0.9547\n"
          ],
          "name": "stdout"
        }
      ]
    },
    {
      "cell_type": "code",
      "metadata": {
        "id": "paGYCXoqCMqf",
        "colab_type": "code",
        "colab": {
          "base_uri": "https://localhost:8080/",
          "height": 182
        },
        "outputId": "94576847-2689-45ef-d32c-420157d8ebf6"
      },
      "source": [
        "#Determining the optimal threshold value to seggregate the classes\n",
        "pred4 = model4.predict(val_padded, batch_size=512,verbose=1)\n",
        "from sklearn import metrics\n",
        "for thresh in np.arange(0.1, 0.5, 0.05):\n",
        "    thresh = np.round(thresh, 2)\n",
        "    print(\"F1 score at threshold {0} is {1}\".format(thresh, metrics.f1_score(val_labels, (pred4>thresh).astype(int))))"
      ],
      "execution_count": 103,
      "outputs": [
        {
          "output_type": "stream",
          "text": [
            "130613/130613 [==============================] - 3s 26us/sample\n",
            "F1 score at threshold 0.1 is 0.5517440184491208\n",
            "F1 score at threshold 0.15 is 0.5838901601830664\n",
            "F1 score at threshold 0.2 is 0.6016881827209534\n",
            "F1 score at threshold 0.25 is 0.610668366804803\n",
            "F1 score at threshold 0.3 is 0.6135282121006117\n",
            "F1 score at threshold 0.35 is 0.6142754145638067\n",
            "F1 score at threshold 0.4 is 0.6062571537581075\n",
            "F1 score at threshold 0.45 is 0.596748185971513\n"
          ],
          "name": "stdout"
        }
      ]
    },
    {
      "cell_type": "code",
      "metadata": {
        "id": "YgvWgy9ICUx5",
        "colab_type": "code",
        "colab": {
          "base_uri": "https://localhost:8080/",
          "height": 539
        },
        "outputId": "229e5a01-d0ec-4bd8-c83e-75f30f75657d"
      },
      "source": [
        "#From above, we can see that F1 score is highest at a threshold of 0.35\n",
        "pred_ft4_val_labels=(pred4>0.35).astype(int)\n",
        "\n",
        "from sklearn.metrics import classification_report\n",
        "print(classification_report(val_labels,pred_ft4_val_labels))\n",
        "\n",
        "import matplotlib.pyplot as plt\n",
        "from sklearn.metrics import confusion_matrix\n",
        "print(confusion_matrix(val_labels, pred_ft4_val_labels))\n",
        "CM = confusion_matrix(val_labels, pred_ft4_val_labels)\n",
        "from mlxtend.plotting import plot_confusion_matrix\n",
        "fig, ax = plot_confusion_matrix(conf_mat=CM ,  figsize=(5, 5))\n",
        "plt.show()"
      ],
      "execution_count": 104,
      "outputs": [
        {
          "output_type": "stream",
          "text": [
            "              precision    recall  f1-score   support\n",
            "\n",
            "           0       0.98      0.97      0.97    122534\n",
            "           1       0.60      0.63      0.61      8079\n",
            "\n",
            "    accuracy                           0.95    130613\n",
            "   macro avg       0.79      0.80      0.79    130613\n",
            "weighted avg       0.95      0.95      0.95    130613\n",
            "\n",
            "[[119081   3453]\n",
            " [  2967   5112]]\n"
          ],
          "name": "stdout"
        },
        {
          "output_type": "display_data",
          "data": {
            "image/png": "[encoded data removed]",
            "text/plain": [
              "<Figure size 360x360 with 1 Axes>"
            ]
          },
          "metadata": {
            "tags": []
          }
        }
      ]
    },
    {
      "cell_type": "markdown",
      "metadata": {
        "id": "0II-hwtPolVu",
        "colab_type": "text"
      },
      "source": [
        "# **Final Model**"
      ]
    },
    {
      "cell_type": "markdown",
      "metadata": {
        "id": "ISSEq_g2pTdf",
        "colab_type": "text"
      },
      "source": [
        "###**Though the results of the above models are similar, there is a good chance that they might capture different type of information from the data. So, the final model is a blend of the 4 previous models.**"
      ]
    },
    {
      "cell_type": "code",
      "metadata": {
        "id": "mi5GpSlmhsuk",
        "colab_type": "code",
        "colab": {
          "base_uri": "https://localhost:8080/",
          "height": 182
        },
        "outputId": "d54130cc-5fad-45d1-8bbc-2cd891f54c03"
      },
      "source": [
        "pred_final = 0.25*pred1 + 0.25*pred2 + 0.25*pred3 + 0.25*pred4\n",
        "for thresh in np.arange(0.1, 0.501, 0.05):\n",
        "    thresh = np.round(thresh, 2)\n",
        "    print(\"F1 score at threshold {0} is {1}\".format(thresh, metrics.f1_score(val_labels, (pred_final>thresh).astype(int))))"
      ],
      "execution_count": 116,
      "outputs": [
        {
          "output_type": "stream",
          "text": [
            "F1 score at threshold 0.1 is 0.5465947764903828\n",
            "F1 score at threshold 0.15 is 0.5918959913326111\n",
            "F1 score at threshold 0.2 is 0.61951775204101\n",
            "F1 score at threshold 0.25 is 0.6376663254861823\n",
            "F1 score at threshold 0.3 is 0.6454759686523813\n",
            "F1 score at threshold 0.35 is 0.6486989929565167\n",
            "F1 score at threshold 0.4 is 0.6430995126164477\n",
            "F1 score at threshold 0.45 is 0.6308267226119452\n",
            "F1 score at threshold 0.5 is 0.611505780749408\n"
          ],
          "name": "stdout"
        }
      ]
    },
    {
      "cell_type": "code",
      "metadata": {
        "id": "mrimbS99j34u",
        "colab_type": "code",
        "colab": {
          "base_uri": "https://localhost:8080/",
          "height": 539
        },
        "outputId": "1795c656-c49f-4c66-9f5f-e3286d9eb153"
      },
      "source": [
        "pred_final_val_labels=(pred_final>0.33).astype(int)\n",
        "\n",
        "from sklearn.metrics import classification_report\n",
        "print(classification_report(val_labels,pred_final_val_labels))\n",
        "\n",
        "import matplotlib.pyplot as plt\n",
        "from sklearn.metrics import confusion_matrix\n",
        "print(confusion_matrix(val_labels, pred_final_val_labels))\n",
        "CM = confusion_matrix(val_labels, pred_final_val_labels)\n",
        "from mlxtend.plotting import plot_confusion_matrix\n",
        "fig, ax = plot_confusion_matrix(conf_mat=CM ,  figsize=(5, 5))\n",
        "plt.show()"
      ],
      "execution_count": 118,
      "outputs": [
        {
          "output_type": "stream",
          "text": [
            "              precision    recall  f1-score   support\n",
            "\n",
            "           0       0.98      0.97      0.97    122534\n",
            "           1       0.60      0.71      0.65      8079\n",
            "\n",
            "    accuracy                           0.95    130613\n",
            "   macro avg       0.79      0.84      0.81    130613\n",
            "weighted avg       0.96      0.95      0.95    130613\n",
            "\n",
            "[[118723   3811]\n",
            " [  2379   5700]]\n"
          ],
          "name": "stdout"
        },
        {
          "output_type": "display_data",
          "data": {
            "image/png": "[encoded data removed]",
            "text/plain": [
              "<Figure size 360x360 with 1 Axes>"
            ]
          },
          "metadata": {
            "tags": []
          }
        }
      ]
    }
  ]
}